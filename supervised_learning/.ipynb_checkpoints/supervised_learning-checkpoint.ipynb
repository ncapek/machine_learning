{
 "cells": [
  {
   "cell_type": "markdown",
   "metadata": {},
   "source": [
    "# Supervised learning\n",
    "**If you can't implement it, you don't understand it**\n",
    "\n",
    "- topic covered: naive bayes, k nearest neighbors, perceptron, decision trees"
   ]
  },
  {
   "cell_type": "markdown",
   "metadata": {},
   "source": [
    "## Dataset\n",
    "- in this course we use the MNIST dataset available here: https://www.kaggle.com/c/digit-recognizer/overview\n",
    "- it consists of images of handwritten digits\n",
    "- inputs are a flattened vector of 28x28 pixels, no RGB so values are 0-255\n",
    "- input will be scaled to 0-1\n",
    "- targets are digits from 0 to 9\n",
    "- 42 000 images in the training set, test set doesn't come with labels on kaggle, so we will only be using the training set\n",
    "\n",
    "<img src=\"./assets/mnist.png\"\n",
    "     alt=\"Markdown Monster icon\"\n",
    "     style=\"float: left; margin-right: 10px;\" />"
   ]
  },
  {
   "cell_type": "markdown",
   "metadata": {},
   "source": [
    "## K-Nearest neighbors\n",
    "- both simple conceptually and easy to implement in code  \n",
    "<u>sample problem</u>:  \n",
    "    - Will you pass a course given that I know how many hours you studied?\n",
    "    - I have data about students from past semesters\n",
    "    - I can find students who have are \"closest to you\" in the number of hours they studied for their exam\n",
    "    - by finding the most similar students, I can estimate your performance based on their result"
   ]
  },
  {
   "cell_type": "markdown",
   "metadata": {},
   "source": [
    "| Name  | Hours studied  | Passed   |\n",
    "|-------|---|---|\n",
    "| Alice | 1 | N |\n",
    "| Bob   | 3 | N |\n",
    "| Carol | 6 | Y |\n",
    "| David | 7 | Y |\n",
    "| Eric  | 8 | Y |"
   ]
  },
  {
   "cell_type": "markdown",
   "metadata": {},
   "source": [
    "## Naive bayes and bayes classifiers"
   ]
  },
  {
   "cell_type": "markdown",
   "metadata": {},
   "source": [
    "## Decision trees"
   ]
  },
  {
   "cell_type": "markdown",
   "metadata": {},
   "source": [
    "## Perceptrons"
   ]
  },
  {
   "cell_type": "markdown",
   "metadata": {},
   "source": [
    "## Practical machine learning"
   ]
  },
  {
   "cell_type": "markdown",
   "metadata": {},
   "source": [
    "## Building a web service"
   ]
  },
  {
   "cell_type": "code",
   "execution_count": null,
   "metadata": {},
   "outputs": [],
   "source": []
  }
 ],
 "metadata": {
  "kernelspec": {
   "display_name": "Python 3",
   "language": "python",
   "name": "python3"
  },
  "language_info": {
   "codemirror_mode": {
    "name": "ipython",
    "version": 3
   },
   "file_extension": ".py",
   "mimetype": "text/x-python",
   "name": "python",
   "nbconvert_exporter": "python",
   "pygments_lexer": "ipython3",
   "version": "3.8.2"
  }
 },
 "nbformat": 4,
 "nbformat_minor": 4
}
