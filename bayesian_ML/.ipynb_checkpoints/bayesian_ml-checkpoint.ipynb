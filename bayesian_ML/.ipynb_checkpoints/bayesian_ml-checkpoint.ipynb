{
 "cells": [
  {
   "cell_type": "markdown",
   "metadata": {},
   "source": [
    "# Bayesian machine learning"
   ]
  },
  {
   "cell_type": "markdown",
   "metadata": {},
   "source": [
    "- In the offline world it was sufficient to run experiments, ie. collect data, perform statistical tests and modify action based on that\n",
    "- Today in the online world things are moving too fast. Web behaviour must be responsive and there is too much data to handle manually. Updating actions based on data must happen automatically, hence the use of bayesian machine learning\n",
    "\n",
    "## Examples of A/B testing\n",
    "- Medicine\n",
    "    - A pharmaceutical company discovers a new drug for blood pressure and needs to find out if it works\n",
    "    - Then perform and experiment. Select 1 group to give the drug and a second group to give a placebo\n",
    "    - Measure the blood pressure of every person before and after their treatment and perform statistical tests to figure out if there is a difference between the groups\n",
    "    \n",
    "- Web pages\n",
    "    - A website wants to optimize the number of visitors who purchase something (conversion rate)\n",
    "    - Multiple versions of the website are used to test for trustworthiness of the design\n",
    "    - A test is performed to see if one version peform better than another\n",
    "\n",
    "## What is Bayesian machine learning?\n",
    "- Bayes rule is just basic probability\n",
    "- in the Bayesian approach, everything is a random variable\n",
    "- suppose we want to measure the height of students in a class\n",
    "    - frequentist approach:\n",
    "        - measure the height of everyone in the class using a normal distribution\n",
    "        - write down the likelihood of observing that data\n",
    "        - use maximum likelihood estimation to figure out the parameters (mean and variance)\n",
    "    - bayesian approach:\n",
    "        - in the bayesian approach the parameters are not scalar numbers\n",
    "        - they are probability distributions themselves\n",
    "        \n",
    "        \n",
    "        "
   ]
  },
  {
   "cell_type": "markdown",
   "metadata": {},
   "source": [
    "## Probability review\n",
    "- marginal distributions: $p(A), p(B)$\n",
    "- joint distribution: $p(A, B)$\n",
    "- conditional distributions: $p(A|B), p(B|A)$\n",
    "\n",
    "$p(A) = \\sum_{B} p(A,B)$<br>\n",
    "$p(B) = \\sum_{A} p(A,B)$<br><br>\n",
    "$p(A|B) = \\frac{p(A,B)}{p(B)} = \\frac{p(A,B)}{\\sum_{A} p(A,B)}$<br>\n",
    "$p(B|A) = \\frac{p(A,B)}{p(A)} = \\frac{p(A,B)}{\\sum_{B} p(A,B)}$<br>\n",
    "\n",
    "$p(B|A) = \\frac{p(A,B)}{p(A)} = \\frac{p(A|B)p(B))}{\\sum_{B} p(A|B)p(B)}$<br><br>\n",
    "\n",
    "- for continuous distributions, we call the probability distribution the probability density and instead of summations we integrate\n",
    "\n",
    "## Examples\n",
    "- suppose we want to find p(Buy|Country):<br>\n",
    "\n",
    "|  | CA | US | MX |\n",
    "|-|-|-|-|\n",
    "| Buy = True | 20 | 50 | 10 |\n",
    "| Buy = False | 300 | 500 | 200 | \n",
    "\n",
    "- an e-commerce website will likely be very interested if the website is performing poorly in a given country. The causes may be numerous: slower speed in given country due to distance from datacenters, irrevelant product placement etc.<br><br>\n",
    "\n",
    "marginal probabilities\n",
    "- p(country=CA) = 210/(210+550+320)=0.30\n",
    "- p(country=US) = 550/(210+550+320)=0.51\n",
    "- p(country=MX) = 210/(210+550+320)=0.19<br><br>\n",
    "\n",
    "joint probabilities:\n",
    "- p(Buy=True, Country=CA) = 20/1080 = 0.019\n",
    "- p(Buy=False, Country=CA) = 300/1080 = 0.28\n",
    "- p(Buy=True, Country=US) = 50/1080 = 0.046\n",
    "- p(Buy=False, Country=US) = 500/1080 = 0.46\n",
    "- p(Buy=True, Country=MX) = 10/1080 = 0.0093\n",
    "- p(Buy=False, Country=MX) = 200/1080 = 0.185<br><br>\n",
    "\n",
    "conditional probabilities:\n",
    "- p(Buy=True|Country=CA) = 0.019/0.30 = 0.07\n",
    "- p(Buy=False|Country=CA) = 0.28/0.30 = 0.93\n",
    "- p(Buy=True|Country=US) = 0.046/0.51 = 0.09\n",
    "- p(Buy=False|Country=US) = 0.46/0.51 = 0.91\n",
    "- p(Buy=True|Country=MX) = 0.0093/0.19 = 0.05\n",
    "- p(Buy=False|Country=MX) = 0.185/0.19 = 0.97<br><br>\n",
    "\n",
    "Independence:<br>\n",
    "$P(A,B) = P(A)P(B)$\n",
    "\n",
    "Example:\n",
    "- consider N succesive coin tosses\n",
    "- the value of every successive coin toss is independent of the previous one, since it doesn't effect the probability\n",
    "- we say the each coin toss is iid, independent and identically distributed\n",
    "- meaning the the value of coin toss k is completely independent of all previous coin tosses\n",
    "- the gambler's fallacy refers to the common thought process that if a person has lost many bets in a row, the probability of winning the next bet is somehow higher, since \"it should average over time\"\n"
   ]
  },
  {
   "cell_type": "markdown",
   "metadata": {},
   "source": [
    "# Maximum likelihood estimation\n",
    "- technique for statistical modelling\n",
    "- trying to fit a model to the data, such that the parameters model the data as closely as possible\n",
    "\n",
    "## Bernoulli distribution\n",
    "$p(x) = \\theta^x(1-\\theta)^{1-x}$<br>\n",
    "$data = \\{x_1, \\dots, x_n\\}$<br>\n",
    "$L(\\theta) = p(data|\\theta) = \\prod_{i=1}^N p(x_i|\\theta) = \\prod_{i=1}^N \\theta^x_i(1-\\theta)^{1-x_i}$<br>\n",
    "$log(L(\\theta)) = l(\\theta) = \\sum_{i=1}^N {x_ilog(\\theta) + \\sum_{i=1}^N (1-x_i)log(1-\\theta)}$\n",
    "- the goal is to find the value for $\\theta$ such taht the likelihood function is maximized<br>"
   ]
  },
  {
   "cell_type": "markdown",
   "metadata": {},
   "source": [
    "$\\frac{dl(\\theta)}{d\\theta} = \\frac{\\sum_{i=1}^N x_i}{\\theta} - \\frac{\\sum_{i=1}^N (1-x_i)}{1-\\theta} = 0$<br>\n",
    "$\\theta = \\frac{\\sum_{i=1}^N x_i}{N}$"
   ]
  },
  {
   "cell_type": "markdown",
   "metadata": {},
   "source": [
    "## Normal distribution (TODO)"
   ]
  },
  {
   "cell_type": "markdown",
   "metadata": {},
   "source": [
    "## Probability in code"
   ]
  },
  {
   "cell_type": "code",
   "execution_count": 12,
   "metadata": {},
   "outputs": [
    {
     "data": {
      "text/plain": [
       "0.07656372550983481"
      ]
     },
     "execution_count": 12,
     "metadata": {},
     "output_type": "execute_result"
    }
   ],
   "source": [
    "import numpy as np\n",
    "import matplotlib.pyplot as plt\n",
    "from scipy.stats import norm\n",
    "np.random.seed(0)\n",
    "\n",
    "mu = 170\n",
    "sd = 7\n",
    "\n",
    "# generate samples from distribution\n",
    "x = norm.rvs(loc=mu, scale=sd, size = 100)\n",
    "\n",
    "# maximum likelihood mean\n",
    "x.mean()\n",
    "\n",
    "# maximum likelihood variance\n",
    "x.var()\n",
    "\n",
    "# maximum likelihood standard deviation\n",
    "x.std()\n",
    "\n",
    "# unbiased variance\n",
    "x.var(ddof=1)\n",
    "\n",
    "# unbiased standard deviation\n",
    "x.std(ddof=1)\n",
    "\n",
    "# at what height are you in the 95th percentile?\n",
    "norm.ppf(0.95, loc=mu, scale=sd)\n",
    "\n",
    "# you are 160 tall, what percentile are you in?\n",
    "norm.cdf(160, loc=mu, scale=sd)\n",
    "\n",
    "# you are 180 tall, what is the probability that someone is taller than you?\n",
    "1 - norm.cdf(180, loc=mu, scale=sd)"
   ]
  },
  {
   "cell_type": "markdown",
   "metadata": {},
   "source": [
    "# Traditional A/B testing"
   ]
  },
  {
   "cell_type": "markdown",
   "metadata": {},
   "source": [
    "# Bayesian A/B testing\n",
    "\n",
    "## Explore-exploit dilemma\n",
    "- exploitation = using the collected we already have in order make use of so far obtained data\n",
    "- exploration = making random choices in order to obatain more data which we can exploit later\n",
    "- greedy alrogithms are those that only exploit the data, which often leads to suboptimal results<br>\n",
    "\n",
    "This sections is devoted to algorithms which attempt to solve this problem:\n",
    "- epsilon-greedy\n",
    "- optimistic initial values\n",
    "- UCB1 (upper confidence bound)\n",
    "- Thompson sampling (bayesian bandit)\n",
    "\n",
    "All of these can be used in place of traditional A/B testing\n",
    "\n",
    "## Epsilon-greedy\n",
    "- insteady of always taking the greedy action, have some small probability of doing something random\n",
    "- the probability is given by epsilon\n",
    "- the reason for random actions is that we want to gather sufficient data about other possibilities\n",
    "- but if one bandit is optimal, we don't want to spend time on the suboptimals ones in the long run\n",
    "- to reduce this problem, we can select a decay schedule for epsilon\n",
    "- lower epsilons take longer to converge on average, but the long time return will be higher after convergence\n",
    "\n",
    "### Implementation trick\n",
    "- to figure out the average number of wins, we calculate the sample mean\n",
    "- to do so in constant time and space complexity, we calculate the mean incrementally<br>\n",
    "$\\bar{X}_N = \\frac{1}{N}((N-1)*\\bar{X}_{N-1} + X_N)$\n",
    "\n",
    "### Pseudocode\n"
   ]
  },
  {
   "cell_type": "raw",
   "metadata": {},
   "source": [
    "# greedy\n",
    "while True:\n",
    "    j = argmax(predicted bandit means)\n",
    "    x = play bandit j and get reward\n",
    "    bandits[j].update_mean(x)\n",
    "    \n",
    "# epsilon greedy\n",
    "while True:\n",
    "    p = random number in [0; 1]\n",
    "    if p < epsilon:\n",
    "        j = choose random bandit\n",
    "    else:\n",
    "        j = argmax(predicted bandit means)\n",
    "    x = play bandit j and get reward\n",
    "    bandits[j].update_mean(x)"
   ]
  },
  {
   "cell_type": "markdown",
   "metadata": {},
   "source": [
    "### Code"
   ]
  },
  {
   "cell_type": "code",
   "execution_count": 112,
   "metadata": {},
   "outputs": [
    {
     "name": "stdout",
     "output_type": "stream",
     "text": [
      "optimal j: 5\n",
      "mean estimate for bandit 0:  0.01282051282051282\n",
      "mean estimate for bandit 1:  0.06185567010309277\n",
      "mean estimate for bandit 2:  0.09333333333333334\n",
      "mean estimate for bandit 3:  0.14864864864864866\n",
      "mean estimate for bandit 4:  0.35211267605633806\n",
      "mean estimate for bandit 5:  0.7432587194169721\n",
      "total reward earned: 7189.0\n",
      "overall win rate: 0.7189\n",
      "num_times_explored: 468\n",
      "num_time_exploited: 9532\n",
      "num times selected optimal bandit: 9605\n"
     ]
    },
    {
     "data": {
      "image/png": "[encoded data removed]",
      "text/plain": [
       "<Figure size 432x288 with 1 Axes>"
      ]
     },
     "metadata": {
      "needs_background": "light"
     },
     "output_type": "display_data"
    }
   ],
   "source": [
    "import matplotlib.pyplot as plt\n",
    "import numpy as np\n",
    "import random\n",
    "\n",
    "NUM_TRIALS = 10000\n",
    "EPS = 0.05\n",
    "BANDIT_PROBABILITIES = [0.01, 0.05, 0.1, 0.2, 0.5, 0.75]\n",
    "\n",
    "class Bandit:\n",
    "    def __init__(self, p):\n",
    "        # p = winrate\n",
    "        self.p = p\n",
    "        self.p_estimate = 0.5\n",
    "        self.N = 0\n",
    "        \n",
    "    def pull(self):\n",
    "        # simulate draw\n",
    "        return np.random.random() < self.p\n",
    "    \n",
    "    def update(self, x):\n",
    "        self.N += 1\n",
    "        self.p_estimate = ((self.N-1)*self.p_estimate + x)/self.N\n",
    "        \n",
    "def experiment():\n",
    "    bandits = [Bandit(p) for p in BANDIT_PROBABILITIES]\n",
    "    \n",
    "    rewards = np.zeros(NUM_TRIALS)\n",
    "    num_times_explored = 0\n",
    "    num_times_exploited = 0\n",
    "    num_optimal = 0\n",
    "    optimal_j = np.argmax([b.p for b in bandits])\n",
    "    print(\"optimal j:\", optimal_j)\n",
    "    \n",
    "    for i in range(NUM_TRIALS):\n",
    "        \n",
    "        # use epsilod-greedy to select the next bandit\n",
    "        if np.random.random() < EPS:\n",
    "            num_times_explored += 1\n",
    "            j = random.randint(0, len(bandits)-1)\n",
    "        else:\n",
    "            num_times_exploited += 1\n",
    "            j = np.argmax([b.p_estimate for b in bandits])\n",
    "            \n",
    "        if j == optimal_j:\n",
    "            num_optimal += 1\n",
    "            \n",
    "        # play bandit with largest sample rate\n",
    "        x = bandits[j].pull()\n",
    "        \n",
    "        # update rewards log\n",
    "        rewards[i] = x\n",
    "        \n",
    "        # update estimate\n",
    "        bandits[j].update(x)\n",
    "        \n",
    "    for idx, b in enumerate(bandits):\n",
    "        print(f\"mean estimate for bandit {idx}: \", b.p_estimate)\n",
    "        \n",
    "    # print total reward\n",
    "    print(\"total reward earned:\", rewards.sum())\n",
    "    print(\"overall win rate:\", rewards.sum() / NUM_TRIALS)\n",
    "    print(\"num_times_explored:\", num_times_explored)\n",
    "    print(\"num_time_exploited:\", num_times_exploited)\n",
    "    print(\"num times selected optimal bandit:\", num_optimal)\n",
    "    \n",
    "    # plot results\n",
    "    cumulative_rewards = np.cumsum(rewards)\n",
    "    win_rates = cumulative_rewards / (np.arange(NUM_TRIALS) + 1)\n",
    "    plt.plot(win_rates)\n",
    "    plt.plot(np.ones(NUM_TRIALS)*np.max(BANDIT_PROBABILITIES))\n",
    "    plt.show()    \n",
    "    \n",
    "experiment()"
   ]
  },
  {
   "cell_type": "markdown",
   "metadata": {},
   "source": [
    "## Optimistic initial values\n",
    "- "
   ]
  },
  {
   "cell_type": "code",
   "execution_count": null,
   "metadata": {},
   "outputs": [],
   "source": []
  }
 ],
 "metadata": {
  "kernelspec": {
   "display_name": "Python 3",
   "language": "python",
   "name": "python3"
  },
  "language_info": {
   "codemirror_mode": {
    "name": "ipython",
    "version": 3
   },
   "file_extension": ".py",
   "mimetype": "text/x-python",
   "name": "python",
   "nbconvert_exporter": "python",
   "pygments_lexer": "ipython3",
   "version": "3.8.2"
  }
 },
 "nbformat": 4,
 "nbformat_minor": 4
}
