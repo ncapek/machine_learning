{
 "cells": [
  {
   "cell_type": "markdown",
   "metadata": {},
   "source": [
    "# Bayesian machine learning"
   ]
  },
  {
   "cell_type": "markdown",
   "metadata": {},
   "source": [
    "- In the offline world it was sufficient to run experiments, ie. collect data, perform statistical tests and modify action based on that\n",
    "- Today in the online world things are moving too fast. Web behaviour must be responsive and there is too much data to handle manually. Updating actions based on data must happen automatically, hence the use of bayesian machine learning\n",
    "\n",
    "## Examples of A/B testing\n",
    "- Medicine\n",
    "    - A pharmaceutical company discovers a new drug for blood pressure and needs to find out if it works\n",
    "    - Then perform and experiment. Select 1 group to give the drug and a second group to give a placebo\n",
    "    - Measure the blood pressure of every person before and after their treatment and perform statistical tests to figure out if there is a difference between the groups\n",
    "    \n",
    "- Web pages\n",
    "    - A website wants to optimize the number of visitors who purchase something (conversion rate)\n",
    "    - Multiple versions of the website are used to test for trustworthiness of the design\n",
    "    - A test is performed to see if one version peform better than another\n",
    "\n",
    "## What is Bayesian machine learning?\n",
    "- Bayes rule is just basic probability\n",
    "- in the Bayesian approach, everything is a random variable\n",
    "- suppose we want to measure the height of students in a class\n",
    "    - frequentist approach:\n",
    "        - measure the height of everyone in the class using a normal distribution\n",
    "        - write down the likelihood of observing that data\n",
    "        - use maximum likelihood estimation to figure out the parameters (mean and variance)\n",
    "    - bayesian approach:\n",
    "        - in the bayesian approach the parameters are not scalar numbers\n",
    "        - they are probability distributions themselves\n",
    "        \n",
    "        \n",
    "        "
   ]
  },
  {
   "cell_type": "markdown",
   "metadata": {},
   "source": [
    "## Probability review\n",
    "- marginal distributions: $p(A), p(B)$\n",
    "- joint distribution: $p(A, B)$\n",
    "- conditional distributions: $p(A|B), p(B|A)$\n",
    "\n",
    "$p(A) = \\sum_{B} p(A,B)$<br>\n",
    "$p(B) = \\sum_{A} p(A,B)$<br><br>\n",
    "$p(A|B) = \\frac{p(A,B)}{p(B)} = \\frac{p(A,B)}{\\sum_{A} p(A,B)}$<br>\n",
    "$p(B|A) = \\frac{p(A,B)}{p(A)} = \\frac{p(A,B)}{\\sum_{B} p(A,B)}$<br>\n",
    "\n",
    "$p(B|A) = \\frac{p(A,B)}{p(A)} = \\frac{p(A|B)p(B))}{\\sum_{B} p(A|B)p(B)}$<br><br>\n",
    "\n",
    "- for continuous distributions, we call the probability distribution the probability density and instead of summations we integrate\n",
    "\n",
    "## Examples\n",
    "- suppose we want to find p(Buy|Country):<br>\n",
    "\n",
    "|  | CA | US | MX |\n",
    "|-|-|-|-|\n",
    "| Buy = True | 20 | 50 | 10 |\n",
    "| Buy = False | 300 | 500 | 200 | \n",
    "\n",
    "- an e-commerce website will likely be very interested if the website is performing poorly in a given country. The causes may be numerous: slower speed in given country due to distance from datacenters, irrevelant product placement etc.<br><br>\n",
    "\n",
    "marginal probabilities\n",
    "- p(country=CA) = 210/(210+550+320)=0.30\n",
    "- p(country=US) = 550/(210+550+320)=0.51\n",
    "- p(country=MX) = 210/(210+550+320)=0.19<br><br>\n",
    "\n",
    "joint probabilities:\n",
    "- p(Buy=True, Country=CA) = 20/1080 = 0.019\n",
    "- p(Buy=False, Country=CA) = 300/1080 = 0.28\n",
    "- p(Buy=True, Country=US) = 50/1080 = 0.046\n",
    "- p(Buy=False, Country=US) = 500/1080 = 0.46\n",
    "- p(Buy=True, Country=MX) = 10/1080 = 0.0093\n",
    "- p(Buy=False, Country=MX) = 200/1080 = 0.185<br><br>\n",
    "\n",
    "conditional probabilities:\n",
    "- p(Buy=True|Country=CA) = 0.019/0.30 = 0.07\n",
    "- p(Buy=False|Country=CA) = 0.28/0.30 = 0.93\n",
    "- p(Buy=True|Country=US) = 0.046/0.51 = 0.09\n",
    "- p(Buy=False|Country=US) = 0.46/0.51 = 0.91\n",
    "- p(Buy=True|Country=MX) = 0.0093/0.19 = 0.05\n",
    "- p(Buy=False|Country=MX) = 0.185/0.19 = 0.97<br><br>\n",
    "\n",
    "Independence:<br>\n",
    "$P(A,B) = P(A)P(B)$\n",
    "\n",
    "Example:\n",
    "- consider N succesive coin tosses\n",
    "- the value of every successive coin toss is independent of the previous one, since it doesn't effect the probability\n",
    "- we say the each coin toss is iid, independent and identically distributed\n",
    "- meaning the the value of coin toss k is completely independent of all previous coin tosses\n",
    "- the gambler's fallacy refers to the common thought process that if a person has lost many bets in a row, the probability of winning the next bet is somehow higher, since \"it should average over time\"\n"
   ]
  },
  {
   "cell_type": "markdown",
   "metadata": {},
   "source": [
    "# Maximum likelihood estimation\n",
    "- technique for statistical modelling\n",
    "- trying to fit a model to the data, such that the parameters model the data as closely as possible\n",
    "\n",
    "## Bernoulli distribution\n",
    "$p(x) = \\theta^x(1-\\theta)^{1-x}$<br>\n",
    "$data = \\{x_1, \\dots, x_n\\}$<br>\n",
    "$L(\\theta) = p(data|\\theta) = \\prod_{i=1}^N p(x_i|\\theta) = \\prod_{i=1}^N \\theta^x_i(1-\\theta)^{1-x_i}$<br>\n",
    "$log(L(\\theta)) = l(\\theta) = \\sum_{i=1}^N {x_ilog(\\theta) + \\sum_{i=1}^N (1-x_i)log(1-\\theta)}$\n",
    "- the goal is to find the value for $\\theta$ such taht the likelihood function is maximized<br>"
   ]
  },
  {
   "cell_type": "markdown",
   "metadata": {},
   "source": [
    "$\\frac{dl(\\theta)}{d\\theta} = \\frac{\\sum_{i=1}^N x_i}{\\theta} - \\frac{\\sum_{i=1}^N (1-x_i)}{1-\\theta} = 0$<br>\n",
    "$\\theta = \\frac{\\sum_{i=1}^N x_i}{N}$"
   ]
  },
  {
   "cell_type": "markdown",
   "metadata": {},
   "source": [
    "## Normal distribution (TODO)"
   ]
  },
  {
   "cell_type": "markdown",
   "metadata": {},
   "source": [
    "## Probability in code"
   ]
  },
  {
   "cell_type": "code",
   "execution_count": 12,
   "metadata": {},
   "outputs": [
    {
     "data": {
      "text/plain": [
       "0.07656372550983481"
      ]
     },
     "execution_count": 12,
     "metadata": {},
     "output_type": "execute_result"
    }
   ],
   "source": [
    "import numpy as np\n",
    "import matplotlib.pyplot as plt\n",
    "from scipy.stats import norm\n",
    "np.random.seed(0)\n",
    "\n",
    "mu = 170\n",
    "sd = 7\n",
    "\n",
    "# generate samples from distribution\n",
    "x = norm.rvs(loc=mu, scale=sd, size = 100)\n",
    "\n",
    "# maximum likelihood mean\n",
    "x.mean()\n",
    "\n",
    "# maximum likelihood variance\n",
    "x.var()\n",
    "\n",
    "# maximum likelihood standard deviation\n",
    "x.std()\n",
    "\n",
    "# unbiased variance\n",
    "x.var(ddof=1)\n",
    "\n",
    "# unbiased standard deviation\n",
    "x.std(ddof=1)\n",
    "\n",
    "# at what height are you in the 95th percentile?\n",
    "norm.ppf(0.95, loc=mu, scale=sd)\n",
    "\n",
    "# you are 160 tall, what percentile are you in?\n",
    "norm.cdf(160, loc=mu, scale=sd)\n",
    "\n",
    "# you are 180 tall, what is the probability that someone is taller than you?\n",
    "1 - norm.cdf(180, loc=mu, scale=sd)"
   ]
  },
  {
   "cell_type": "code",
   "execution_count": null,
   "metadata": {},
   "outputs": [],
   "source": []
  }
 ],
 "metadata": {
  "kernelspec": {
   "display_name": "Python 3",
   "language": "python",
   "name": "python3"
  },
  "language_info": {
   "codemirror_mode": {
    "name": "ipython",
    "version": 3
   },
   "file_extension": ".py",
   "mimetype": "text/x-python",
   "name": "python",
   "nbconvert_exporter": "python",
   "pygments_lexer": "ipython3",
   "version": "3.8.2"
  }
 },
 "nbformat": 4,
 "nbformat_minor": 4
}
