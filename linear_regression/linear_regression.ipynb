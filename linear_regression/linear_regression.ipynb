{
 "cells": [
  {
   "cell_type": "markdown",
   "metadata": {},
   "source": [
    "# Linear Regression\n",
    "Motto of this and all subsequent courses: **\"If you can't implement it, you don't understand it.\"**\n",
    "\n",
    "The very first machine learning model which serves as an introduction to the field.\n",
    "\n",
    "## Statistics vs Machine learning\n",
    "- Machine learning approach - interested in models with high predictive accuracy, loss functions, minimizing loss functions, train and test sets, hyperparameters, generalization, overfitting, regularization\n",
    "\n",
    "\n",
    "- Statistics approach - interested in models with strong explanatory power, significance tests (ANOVA, t-tests etc.), model \n",
    "diagnostics, model building and selection (forward, backward stepwise), evaluation (AIC, BIC), standard transformations (Box-Cox), residual analysis\n",
    "\n",
    "## Supervised learning vs unsupervised learning\n",
    "- Supervised learning has a target variable, which we want to learn how to predict. Linear regression is in this category\n",
    "    - Regression - trying to predict a real valued number, eg. temperature, price, age\n",
    "    - Classification - trying to predict a category, eg. day of month, blood type, presence of cancer\n",
    "- Unsupervised learning does not have a target variable and the goal is to reveals underlying patterns within the data"
   ]
  },
  {
   "cell_type": "markdown",
   "metadata": {},
   "source": [
    "# 1D Linear regression\n",
    "- Problem definition: Given some data, we want to find a line that best fits that data, so we can make predictions from input variables alone\n",
    "\n",
    "<img src=\"assets/1dregression.png\"\n",
    "     alt=\"Markdown Monster icon\"\n",
    "     style=\"float: left; margin-right: 10px\"\n",
    "     width=\"300\"/>"
   ]
  },
  {
   "cell_type": "markdown",
   "metadata": {},
   "source": [
    "## Preliminaries\n",
    "\n",
    "- given a set of datapoints $D = \\{(x_1, y_1), ..., (x_N, y_N)\\}$, where $(x_i, y_i)$ denote the pair of input variable $x$ and target variable $y$ for datapoint $i$, $N$ denotes the number of datapoints\n",
    "- a 1D line is given by the equation $y = mx + b$,\n",
    "- for a fitted line $\\hat{y}$ and point $(x_i, y_i)$, the prediction value is given by $\\hat{y_i} = ax_i + b$\n",
    "- define a cost function $J$ to quantify how well the data is being fit\n",
    "- $J = \\sum_{i = 1}^{N} (\\hat{y_i} - y_i)^2$, also known as the sum of square errors, ie. for every datapoint find the difference between the predicted value and the actual value and square it\n",
    "- defining $J$ as such is a good choice, since the difference between predicted values and actual values will always be positive. If we didn't square the difference, the errors would end up cancelling out. Furthermore larger error get penalized more due to the square."
   ]
  },
  {
   "cell_type": "markdown",
   "metadata": {},
   "source": [
    "## Solution\n",
    "What follows is an approach to finding the parameters $a, b$ such that the data is best fit, ie. the cost function is minimized\n",
    "\n",
    "### Calculus essentials\n",
    "- from calculus we know that the gradient is a vector of partial derivatives with respect to the inputs\n",
    "- $\\triangledown f(p) = \\begin{bmatrix} \\displaystyle \\frac{\\partial f(p)}{\\partial x_1} \\\\ \\vdots \\\\ \\displaystyle \\frac{\\partial f(p)}{\\partial x_n} \\end{bmatrix}$, given a function $f$ at point $p$ and $n$ input variables, $\\triangledown f(p)$ gives the gradient at point $p$\n",
    "\n",
    "**Statement:** *The gradient points to the direction of steepest ascent*"
   ]
  },
  {
   "cell_type": "markdown",
   "metadata": {},
   "source": [
    "<img src=\"assets/gradient.png\"\n",
    "     alt=\"Markdown Monster icon\"\n",
    "     style=\"float: left; margin-right: 10px\"\n",
    "     width=\"500\"/>"
   ]
  },
  {
   "cell_type": "markdown",
   "metadata": {},
   "source": [
    "- for a given input value $w_0$, consider its gradients\n",
    "- for the subset of $w$ values yielding a positive gradient, by subtracting the gradient from $w_0$, we move to the left where, correspondingly, the value of $J(w)$ decreases\n",
    "- likewise for the subsect of $w$ values yielding a negative gradient, by subtracting the gradient from $w_0$, we move to the right (subtracting a negative is equivalent to adding), we move to the right where, correspondingly, the value of $J(w)$ decreases\n",
    "\n",
    "#### Gradient descent\n",
    "Thus we arrive at the crucial algorithm used to minimize cost functions in machine learning, **the gradient descent algorithm**\n",
    "\n",
    "- (general case for multiple input variables) for every input parameter $x_i$ we update its value by subtracting a small multiple $\\epsilon$ (epsilon)  of the partial derivative with respect to $x_i$\n",
    "- $x_i := x_i - \\frac{\\partial J(x_i)}{\\partial x_i}$\n",
    "- for a more compact notation we place all input variables into a vector $\\theta$ \n",
    "- $\\theta = \\begin{bmatrix} x_1 \\\\ \\vdots \\\\ x_n \\end{bmatrix}$\n",
    "- the we can express the simultaneous update of all input variables in a single equation\n",
    "- $\\theta = \\theta - \\epsilon \\triangledown{J}$"
   ]
  },
  {
   "cell_type": "markdown",
   "metadata": {},
   "source": [
    "### Closed form solution\n",
    "- though we could certainly find the optimal parameters for linear regression with the use of gradient descent, linear regression is a special case of machine learning algorithm for which a closed form solution exists\n",
    "- a closed form solution indicates that the optimal parameters can be gained from a direct calculation\n",
    "- gradient descent gets us into a minimum by continuously going \"downhill\" on the cost function until we reach a point where the gradient is equal to zero\n",
    "- the gradient could also however be equal to zero in a maximum, so with a closed form solution it might not be clear if a minimum is found, **EXCEPT** that the Squared error function is a *convex*, for which we know a global minimum will be found\n",
    "\n",
    "Once again: we would like to find a line $\\hat{y} = ax + b$, given by parameters $a, b$. We have also defined a cost function $J$, which quantifies how well $\\hat{y}$ fits the data. The best fit will be given by values $a, b$ which minimize $J$. These values can be found by figuring out where $\\triangledown{J} = \\vec{0}$, ie. $\\frac{\\partial J}{\\partial a} = 0$ and $\\frac{\\partial J}{\\partial b} = 0$\n",
    "\n",
    "$J = \\sum_{i = 1}^{N} (\\hat{y_i}- y_i )^2$  \n",
    "$\\equiv J = \\sum_{i = 1}^{N} (y_i - \\hat{y_i})^2$  \n",
    "$ \\equiv J = \\sum_{i = 1}^{N} (y_i - (ax_i + b))^2$\n",
    "\n",
    "___\n",
    "\n",
    "$\\frac{\\partial J}{\\partial a} = \\frac{\\partial}{\\partial a}\\sum_{i = 1}^{N} (y_i - (ax_i + b))^2 = 0$  \n",
    "$\\equiv \\frac{\\partial}{\\partial a}(y_1 - (ax_1 + b))^2 + \\dots + \\frac{\\partial}{\\partial a}(y_N - (ax_N + b))^2 = 0$   \n",
    "$\\equiv \\frac{\\partial}{\\partial a}(y_1 - ax_1 - b)^2 + \\dots + \\frac{\\partial}{\\partial a}(y_N - ax_N - b)^2 = 0$  \n",
    "$\\equiv 2(y_1 - ax_1 - b)(-x_1) + \\dots + 2(y_N - ax_N - b)(-x_N) = 0$  \n",
    "$\\equiv -2(y_1x_1 - ax_1^2 - bx_1) - \\dots - 2(y_Nx_N - ax_N^2 - bx_N) = 0$  \n",
    "$\\equiv (y_1x_1 - ax_1^2 - bx_1) + \\dots + (y_Nx_N - ax_N^2 - bx_N) = 0$  \n",
    "$\\equiv (y_1x_1 + \\dots \\ y_Nx_N) = (ax_1^2 + \\dots + ax_N^2) + (bx_1 + \\dots + bx_N)$  \n",
    "$\\equiv (y_1x_1 + \\dots \\ y_Nx_N) = a(x_1^2 + \\dots + x_N^2) + b(x_1 + \\dots + x_N)$  \n",
    "$\\equiv \\sum_{i=1}^{N} y_ix_i = a\\sum_{i=1}^{N} x_i^2 + b\\sum_{i=1}^{N} x_i$ &ensp;&ensp; $(1)$\n",
    "\n",
    "___\n",
    "\n",
    "$\\frac{\\partial J}{\\partial b} = \\frac{\\partial}{\\partial b}\\sum_{i = 1}^{N} (y_i - (ax_i + b))^2 = 0$  \n",
    "$\\equiv \\frac{\\partial}{\\partial b}(y_1 - (ax_1 + b))^2 + \\dots + \\frac{\\partial}{\\partial b}(y_N - (ax_N + b))^2 = 0$    \n",
    "$\\equiv \\frac{\\partial}{\\partial b}(y_1 - ax_1 - b)^2 + \\dots + \\frac{\\partial}{\\partial b}(y_N - ax_N - b)^2 = 0$  \n",
    "$\\equiv 2(y_1 - ax_1 - b)(-1) + \\dots + 2(y_N - ax_N - b)(-1) = 0$  \n",
    "$\\equiv (y_1 - ax_1 - b) + \\dots + (y_N - ax_N - b) = 0$  \n",
    "$\\equiv (y_1 + \\dots + y_N) = (ax_1 + \\dots + ax_N) + (b + \\dots + b)$  \n",
    "$\\equiv (y_1 + \\dots + y_N) = a(x_1 + \\dots + x_N) + bN$  \n",
    "$\\equiv \\sum_{i=1}^{N}y_i = a\\sum_{i=1}^{N}x_i + bN$ &ensp;&ensp; $(2)$\n",
    "\n",
    "Substituting into $(1)$ and $(2)$:\n",
    "- $C = \\sum_{i=1}^{N} x_i^2$  \n",
    "- $D = \\sum_{i=1}^{N} x_i$  \n",
    "- $E = \\sum_{i=1}^{N} y_ix_i$  \n",
    "- $F = \\sum_{i=1}^{N}y_i$   \n",
    "\n",
    "yields:  \n",
    "$E = aC + bD$  \n",
    "$F = aD + bN$\n",
    "\n",
    "solving for $a, b$:  \n",
    "$a = \\frac{NE - DF}{NC - D^2}$  \n",
    "$b = \\frac{FC - DE}{NC - D^2}$\n",
    "\n",
    "and subtituting back:  \n",
    "$a = \\frac{N\\sum_{i=1}^{N} y_ix_i - \\sum_{i=1}^{N} x_i \\sum_{i=1}^{N}y_i}{N \\sum_{i=1}^{N} x_i^2 - {(\\sum_{i=1}^{N} x_i)}^2}$  \n",
    "$b = \\frac{\\sum_{i=1}^{N}y_i\\sum_{i=1}^{N} x_i^2 - \\sum_{i=1}^{N} x_i \\sum_{i=1}^{N} y_ix_i}{N\\sum_{i=1}^{N} x_i^2 - {(\\sum_{i=1}^{N} x_i)}^2}$\n",
    "\n",
    "And we're done. Parameters $a, b$ can now be calculated directly from the datapoints.\n",
    "But for further simplification we divide the numerators and denominators by $N^2$  \n",
    "$a = \\frac{\\frac{\\sum_{i=1}^{N} y_ix_i}{N} - \\frac{\\sum_{i=1}^{N} x_i}{N} \\frac{\\sum_{i=1}^{N}y_i}{N}}{\\frac{\\sum_{i=1}^{N} x_i^2}{N} - {(\\frac{\\sum_{i=1}^{N} x_i}{N})}^2}$  \n",
    "$b = \\frac{\\frac{\\sum_{i=1}^{N}y_i}{N} \\frac{\\sum_{i=1}^{N} x_i^2}{N} - \\frac{\\sum_{i=1}^{N} x_i}{N} \\frac{\\sum_{i=1}^{N} y_ix_i}{N}}{\\frac{\\sum_{i=1}^{N} x_i^2}{N} - {(\\frac{\\sum_{i=1}^{N} x_i}{N})}^2}$\n",
    "\n",
    "Now using the definition of the mean:  \n",
    "$\\bar{x} = \\frac{\\sum_{i=1}^{N}x_i}{N}$  \n",
    "$\\bar{xy} = \\frac{\\sum_{i=1}^{N}x_iy_i}{N}$\n",
    "\n",
    "Subtitute into $a, b$:  \n",
    "$a = \\frac{\\bar{xy} - \\bar{x}\\bar{y}}{\\bar{x^2} - \\bar{x}^2}$  \n",
    "$b = \\frac{\\bar{y} \\bar{x^2} - \\bar{x} \\bar{xy}}{\\bar{x^2} - \\bar{x}^2}$"
   ]
  },
  {
   "cell_type": "markdown",
   "metadata": {},
   "source": [
    "## Coding 1D linear regression"
   ]
  },
  {
   "cell_type": "code",
   "execution_count": 3,
   "metadata": {},
   "outputs": [
    {
     "name": "stdout",
     "output_type": "stream",
     "text": [
      "a = 1.9618428898938338, b = 0.9626026809325269\n"
     ]
    },
    {
     "data": {
      "image/png": "[encoded data removed]",
      "text/plain": [
       "<Figure size 432x288 with 1 Axes>"
      ]
     },
     "metadata": {
      "needs_background": "light"
     },
     "output_type": "display_data"
    }
   ],
   "source": [
    "# Imports\n",
    "%matplotlib inline\n",
    "import numpy as np\n",
    "import pandas as pd\n",
    "import matplotlib.pyplot as plt\n",
    "\n",
    "# Defining dataset\n",
    "# Data is generated by y = 2*x + 1 + 3*epsilon, where epsilon ~N(0;1)\n",
    "X = np.linspace(0, 10, 100)\n",
    "Y = 2*X + 1 + 2*np.random.randn(100)\n",
    "\n",
    "# Plotting data\n",
    "fig, ax = plt.subplots()\n",
    "ax.scatter(X, Y, s=2);\n",
    "ax.set_title = \"Fitting a line\"\n",
    "ax.set_xlabel = \"input data\"\n",
    "ax.set_ylabel = \"output\"\n",
    "\n",
    "# Calculation of line parameters\n",
    "a = (np.mean(X*Y) - np.mean(X)*np.mean(Y))/(np.mean(X**2) - np.mean(X)**2)\n",
    "b = (np.mean(Y)*np.mean(X**2) - np.mean(X) * np.mean(X*Y))/(np.mean(X**2) - np.mean(X)**2)\n",
    "print(f\"a = {a}, b = {b}\")\n",
    "\n",
    "# Plotting line of best fit into fig\n",
    "Y_hat = a*X + b\n",
    "ax.plot(X, Y_hat, c='r');"
   ]
  },
  {
   "cell_type": "markdown",
   "metadata": {},
   "source": [
    "## Model evaluation"
   ]
  },
  {
   "cell_type": "markdown",
   "metadata": {},
   "source": [
    "- The most commmon metric for evaluating a linear regression model is $R^2$  \n",
    "$R^2 = 1 - \\frac{SS_{res}}{SS_{tot}}$  \n",
    "$SS_{res} = \\sum_{i=1}^{N}(y_i - \\hat{y_i})^2$  \n",
    "- $SS_{res}$ is what we have already seen in the cost function. It's the sum of squared differences between predicted values and actual values\n",
    "$SS_{tot} = \\sum_{i=1}^{N}(y_i - \\bar{y})^2$\n",
    "- $SS_{tot}$ returns the sum of squared differences between actual values and their mean\n",
    "- As we know, the simplest model one could fit is simply outputting the mean of targets regardless of the inputs. For this case $SS_{res}$ is equal to $SS_{tot}$, and $R^2$ then equals 0 meaning our model has very low predictive power.\n",
    "- If our model was somehow able to predict exactly the desired values, $SS_{res}$ would then be equal to 0, and $R^2$ would be equal to 1, which would be the theoretical ideal case.\n",
    "- In some extreme cases $R^2$ could even be negative if the predictions would actually be worse then simply predicting the mean.\n",
    "\n"
   ]
  },
  {
   "cell_type": "code",
   "execution_count": 6,
   "metadata": {},
   "outputs": [
    {
     "name": "stdout",
     "output_type": "stream",
     "text": [
      "R^2 = 0.8928137339361116\n"
     ]
    }
   ],
   "source": [
    "# Using the same model parameters from the previous code cell\n",
    "# Calculate R^2\n",
    "\n",
    "SS_res = (Y_hat - Y).dot(Y_hat - Y)\n",
    "SS_tot = (Y - Y.mean()).dot(Y - Y.mean())\n",
    "R2 = 1 - SS_res/SS_tot\n",
    "\n",
    "print(f\"R^2 = {R2}\")"
   ]
  }
 ],
 "metadata": {
  "kernelspec": {
   "display_name": "Python 3",
   "language": "python",
   "name": "python3"
  },
  "language_info": {
   "codemirror_mode": {
    "name": "ipython",
    "version": 3
   },
   "file_extension": ".py",
   "mimetype": "text/x-python",
   "name": "python",
   "nbconvert_exporter": "python",
   "pygments_lexer": "ipython3",
   "version": "3.8.2"
  }
 },
 "nbformat": 4,
 "nbformat_minor": 4
}
