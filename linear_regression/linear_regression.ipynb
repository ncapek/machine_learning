{
 "cells": [
  {
   "cell_type": "markdown",
   "metadata": {},
   "source": [
    "# Machine learning introduction\n",
    "Motto of this and all subsequent courses: **\"If you can't implement it, you don't understand it.\"**\n",
    "\n",
    "The very first machine learning model which serves as an introduction to the field.\n",
    "\n",
    "## Statistics vs Machine learning\n",
    "- Machine learning approach - interested in models with high predictive accuracy, loss functions, minimizing loss functions, train and test sets, hyperparameters, generalization, overfitting, regularization\n",
    "\n",
    "\n",
    "- Statistics approach - interested in models with strong explanatory power, significance tests (ANOVA, t-tests etc.), model \n",
    "diagnostics, model building and selection (forward, backward stepwise), evaluation (AIC, BIC), standard transformations (Box-Cox), residual analysis\n",
    "\n",
    "## Supervised learning vs unsupervised learning\n",
    "- Supervised learning has a target variable, which we want to learn how to predict. Linear regression is in this category\n",
    "    - Regression - trying to predict a real valued number, eg. temperature, price, age\n",
    "    - Classification - trying to predict a category, eg. day of month, blood type, presence of cancer\n",
    "- Unsupervised learning does not have a target variable and the goal is to reveals underlying patterns within the data"
   ]
  },
  {
   "cell_type": "markdown",
   "metadata": {},
   "source": [
    "# 1D Linear regression\n",
    "- Problem definition: Given some data, we want to find a line that best fits that data, so we can make predictions from input variables alone\n",
    "\n",
    "<img src=\"assets/1dregression.png\"\n",
    "     alt=\"Markdown Monster icon\"\n",
    "     style=\"float: left; margin-right: 10px\"\n",
    "     width=\"300\"/>"
   ]
  },
  {
   "cell_type": "markdown",
   "metadata": {},
   "source": [
    "## Preliminaries\n",
    "\n",
    "- given a set of datapoints $data = \\{(x_1, y_1), ..., (x_N, y_N)\\}$, where $(x_i, y_i)$ denote the pair of input variable $x$ and target variable $y$ for datapoint $i$, $N$ denotes the number of datapoints\n",
    "- a 1D line is given by the equation $y = mx + b$,\n",
    "- for a fitted line $\\hat{y}$ and point $(x_i, y_i)$, the prediction value is given by $\\hat{y_i} = ax_i + b$\n",
    "- define a cost function $J$ to quantify how well the data is being fit\n",
    "- $J = \\sum_{i = 1}^{N} (\\hat{y_i} - y_i)^2$, also known as the sum of square errors, ie. for every datapoint find the difference between the predicted value and the actual value and square it\n",
    "- defining $J$ as such is a good choice, since the difference between predicted values and actual values will always be positive. If we didn't square the difference, the errors would end up cancelling out. Furthermore larger error get penalized more due to the square."
   ]
  },
  {
   "cell_type": "markdown",
   "metadata": {},
   "source": [
    "## Solution\n",
    "What follows is an approach to finding the parameters $a, b$ such that the data is best fit, ie. the cost function is minimized\n",
    "\n",
    "### Calculus essentials\n",
    "- from calculus we know that the gradient is a vector of partial derivatives with respect to the inputs\n",
    "- $\\triangledown f(p) = \\begin{bmatrix} \\displaystyle \\frac{\\partial f(p)}{\\partial x_1} \\\\ \\vdots \\\\ \\displaystyle \\frac{\\partial f(p)}{\\partial x_n} \\end{bmatrix}$, given a function $f$ at point $p$ and $n$ input variables, $\\triangledown f(p)$ gives the gradient at point $p$\n",
    "\n",
    "**Statement:** *The gradient points to the direction of steepest ascent*"
   ]
  },
  {
   "cell_type": "markdown",
   "metadata": {},
   "source": [
    "<img src=\"assets/gradient.png\"\n",
    "     alt=\"Markdown Monster icon\"\n",
    "     style=\"float: left; margin-right: 10px\"\n",
    "     width=\"500\"/>"
   ]
  },
  {
   "cell_type": "markdown",
   "metadata": {},
   "source": [
    "- for a given input value $w_0$, consider its gradients\n",
    "- for the subset of $w$ values yielding a positive gradient, by subtracting the gradient from $w_0$, we move to the left where, correspondingly, the value of $J(w)$ decreases\n",
    "- likewise for the subsect of $w$ values yielding a negative gradient, by subtracting the gradient from $w_0$, we move to the right (subtracting a negative is equivalent to adding), we move to the right where, correspondingly, the value of $J(w)$ decreases\n",
    "\n",
    "#### Gradient descent\n",
    "Thus we arrive at the crucial algorithm used to minimize cost functions in machine learning, **the gradient descent algorithm**\n",
    "\n",
    "- (general case for multiple input variables) for every input parameter $x_i$ we update its value by subtracting a small multiple $\\epsilon$ (epsilon)  of the partial derivative with respect to $x_i$\n",
    "- $x_i := x_i - \\frac{\\partial J(x_i)}{\\partial x_i}$\n",
    "- for a more compact notation we place all input variables into a vector $\\theta$ \n",
    "- $\\theta = \\begin{bmatrix} x_1 \\\\ \\vdots \\\\ x_n \\end{bmatrix}$\n",
    "- the we can express the simultaneous update of all input variables in a single equation\n",
    "- $\\theta = \\theta - \\epsilon \\triangledown{J}$"
   ]
  },
  {
   "cell_type": "markdown",
   "metadata": {},
   "source": [
    "### Closed form solution\n",
    "- though we could certainly find the optimal parameters for linear regression with the use of gradient descent, linear regression is a special case of machine learning algorithm for which a closed form solution exists\n",
    "- a closed form solution indicates that the optimal parameters can be gained from a direct calculation\n",
    "- gradient descent gets us into a minimum by continuously going \"downhill\" on the cost function until we reach a point where the gradient is equal to zero\n",
    "- the gradient could also however be equal to zero in a maximum, so with a closed form solution it might not be clear if a minimum is found, **EXCEPT** that the Squared error function is a *convex*, for which we know a global minimum will be found\n",
    "\n",
    "Once again: we would like to find a line $\\hat{y} = ax + b$, given by parameters $a, b$. We have also defined a cost function $J$, which quantifies how well $\\hat{y}$ fits the data. The best fit will be given by values $a, b$ which minimize $J$. These values can be found by figuring out where $\\triangledown{J} = \\vec{0}$, ie. $\\frac{\\partial J}{\\partial a} = 0$ and $\\frac{\\partial J}{\\partial b} = 0$\n",
    "\n",
    "$J = \\sum_{i = 1}^{N} (\\hat{y_i}- y_i )^2$  \n",
    "$\\equiv J = \\sum_{i = 1}^{N} (y_i - \\hat{y_i})^2$  \n",
    "$ \\equiv J = \\sum_{i = 1}^{N} (y_i - (ax_i + b))^2$\n",
    "\n",
    "___\n",
    "\n",
    "$\\frac{\\partial J}{\\partial a} = \\frac{\\partial}{\\partial a}\\sum_{i = 1}^{N} (y_i - (ax_i + b))^2 = 0$  \n",
    "$\\equiv \\frac{\\partial}{\\partial a}(y_1 - (ax_1 + b))^2 + \\dots + \\frac{\\partial}{\\partial a}(y_N - (ax_N + b))^2 = 0$   \n",
    "$\\equiv \\frac{\\partial}{\\partial a}(y_1 - ax_1 - b)^2 + \\dots + \\frac{\\partial}{\\partial a}(y_N - ax_N - b)^2 = 0$  \n",
    "$\\equiv 2(y_1 - ax_1 - b)(-x_1) + \\dots + 2(y_N - ax_N - b)(-x_N) = 0$  \n",
    "$\\equiv -2(y_1x_1 - ax_1^2 - bx_1) - \\dots - 2(y_Nx_N - ax_N^2 - bx_N) = 0$  \n",
    "$\\equiv (y_1x_1 - ax_1^2 - bx_1) + \\dots + (y_Nx_N - ax_N^2 - bx_N) = 0$  \n",
    "$\\equiv (y_1x_1 + \\dots \\ y_Nx_N) = (ax_1^2 + \\dots + ax_N^2) + (bx_1 + \\dots + bx_N)$  \n",
    "$\\equiv (y_1x_1 + \\dots \\ y_Nx_N) = a(x_1^2 + \\dots + x_N^2) + b(x_1 + \\dots + x_N)$  \n",
    "$\\equiv \\sum_{i=1}^{N} y_ix_i = a\\sum_{i=1}^{N} x_i^2 + b\\sum_{i=1}^{N} x_i$ &ensp;&ensp; $(1)$\n",
    "\n",
    "___\n",
    "\n",
    "$\\frac{\\partial J}{\\partial b} = \\frac{\\partial}{\\partial b}\\sum_{i = 1}^{N} (y_i - (ax_i + b))^2 = 0$  \n",
    "$\\equiv \\frac{\\partial}{\\partial b}(y_1 - (ax_1 + b))^2 + \\dots + \\frac{\\partial}{\\partial b}(y_N - (ax_N + b))^2 = 0$    \n",
    "$\\equiv \\frac{\\partial}{\\partial b}(y_1 - ax_1 - b)^2 + \\dots + \\frac{\\partial}{\\partial b}(y_N - ax_N - b)^2 = 0$  \n",
    "$\\equiv 2(y_1 - ax_1 - b)(-1) + \\dots + 2(y_N - ax_N - b)(-1) = 0$  \n",
    "$\\equiv (y_1 - ax_1 - b) + \\dots + (y_N - ax_N - b) = 0$  \n",
    "$\\equiv (y_1 + \\dots + y_N) = (ax_1 + \\dots + ax_N) + (b + \\dots + b)$  \n",
    "$\\equiv (y_1 + \\dots + y_N) = a(x_1 + \\dots + x_N) + bN$  \n",
    "$\\equiv \\sum_{i=1}^{N}y_i = a\\sum_{i=1}^{N}x_i + bN$ &ensp;&ensp; $(2)$\n",
    "\n",
    "Substituting into $(1)$ and $(2)$:\n",
    "- $C = \\sum_{i=1}^{N} x_i^2$  \n",
    "- $D = \\sum_{i=1}^{N} x_i$  \n",
    "- $E = \\sum_{i=1}^{N} y_ix_i$  \n",
    "- $F = \\sum_{i=1}^{N}y_i$   \n",
    "\n",
    "yields:  \n",
    "$E = aC + bD$  \n",
    "$F = aD + bN$\n",
    "\n",
    "solving for $a, b$:  \n",
    "$a = \\frac{NE - DF}{NC - D^2}$  \n",
    "$b = \\frac{FC - DE}{NC - D^2}$\n",
    "\n",
    "and subtituting back:  \n",
    "$a = \\frac{N\\sum_{i=1}^{N} y_ix_i - \\sum_{i=1}^{N} x_i \\sum_{i=1}^{N}y_i}{N \\sum_{i=1}^{N} x_i^2 - {(\\sum_{i=1}^{N} x_i)}^2}$  \n",
    "$b = \\frac{\\sum_{i=1}^{N}y_i\\sum_{i=1}^{N} x_i^2 - \\sum_{i=1}^{N} x_i \\sum_{i=1}^{N} y_ix_i}{N\\sum_{i=1}^{N} x_i^2 - {(\\sum_{i=1}^{N} x_i)}^2}$\n",
    "\n",
    "And we're done. Parameters $a, b$ can now be calculated directly from the datapoints.\n",
    "But for further simplification we divide the numerators and denominators by $N^2$  \n",
    "$a = \\frac{\\frac{\\sum_{i=1}^{N} y_ix_i}{N} - \\frac{\\sum_{i=1}^{N} x_i}{N} \\frac{\\sum_{i=1}^{N}y_i}{N}}{\\frac{\\sum_{i=1}^{N} x_i^2}{N} - {(\\frac{\\sum_{i=1}^{N} x_i}{N})}^2}$  \n",
    "$b = \\frac{\\frac{\\sum_{i=1}^{N}y_i}{N} \\frac{\\sum_{i=1}^{N} x_i^2}{N} - \\frac{\\sum_{i=1}^{N} x_i}{N} \\frac{\\sum_{i=1}^{N} y_ix_i}{N}}{\\frac{\\sum_{i=1}^{N} x_i^2}{N} - {(\\frac{\\sum_{i=1}^{N} x_i}{N})}^2}$\n",
    "\n",
    "Now using the definition of the mean:  \n",
    "$\\bar{x} = \\frac{\\sum_{i=1}^{N}x_i}{N}$  \n",
    "$\\bar{xy} = \\frac{\\sum_{i=1}^{N}x_iy_i}{N}$\n",
    "\n",
    "Subtitute into $a, b$:  \n",
    "$a = \\frac{\\bar{xy} - \\bar{x}\\bar{y}}{\\bar{x^2} - \\bar{x}^2}$  \n",
    "$b = \\frac{\\bar{y} \\bar{x^2} - \\bar{x} \\bar{xy}}{\\bar{x^2} - \\bar{x}^2}$"
   ]
  },
  {
   "cell_type": "markdown",
   "metadata": {},
   "source": [
    "## Coding 1D linear regression"
   ]
  },
  {
   "cell_type": "code",
   "execution_count": 2,
   "metadata": {},
   "outputs": [
    {
     "name": "stdout",
     "output_type": "stream",
     "text": [
      "a = 2.1106346598001546, b = 0.7832264582652072\n"
     ]
    },
    {
     "data": {
      "image/png": "[encoded data removed]",
      "text/plain": [
       "<Figure size 432x288 with 1 Axes>"
      ]
     },
     "metadata": {
      "needs_background": "light"
     },
     "output_type": "display_data"
    }
   ],
   "source": [
    "# Imports\n",
    "%matplotlib inline\n",
    "import numpy as np\n",
    "import pandas as pd\n",
    "import matplotlib.pyplot as plt\n",
    "\n",
    "# Defining dataset\n",
    "# Data is generated by y = 2*x + 1 + 2*epsilon, where epsilon ~N(0;1)\n",
    "X = np.linspace(0, 10, 100)\n",
    "Y = 2*X + 1 + 2*np.random.randn(100)\n",
    "\n",
    "# Plotting data\n",
    "fig, ax = plt.subplots()\n",
    "ax.scatter(X, Y, s=2);\n",
    "ax.set_title = \"Fitting a line\"\n",
    "ax.set_xlabel = \"input data\"\n",
    "ax.set_ylabel = \"output\"\n",
    "\n",
    "# Calculation of line parameters\n",
    "a = (np.mean(X*Y) - np.mean(X)*np.mean(Y))/(np.mean(X**2) - np.mean(X)**2)\n",
    "b = (np.mean(Y)*np.mean(X**2) - np.mean(X) * np.mean(X*Y))/(np.mean(X**2) - np.mean(X)**2)\n",
    "print(f\"a = {a}, b = {b}\")\n",
    "\n",
    "# Plotting line of best fit into fig\n",
    "Y_hat = a*X + b\n",
    "ax.plot(X, Y_hat, c='r');"
   ]
  },
  {
   "cell_type": "markdown",
   "metadata": {},
   "source": [
    "## Model evaluation"
   ]
  },
  {
   "cell_type": "markdown",
   "metadata": {},
   "source": [
    "- The most commmon metric for evaluating a linear regression model is $R^2$  \n",
    "$R^2 = 1 - \\frac{SS_{res}}{SS_{tot}}$  \n",
    "$SS_{res} = \\sum_{i=1}^{N}(y_i - \\hat{y_i})^2$  \n",
    "- $SS_{res}$ is what we have already seen in the cost function. It's the sum of squared differences between predicted values and actual values\n",
    "$SS_{tot} = \\sum_{i=1}^{N}(y_i - \\bar{y})^2$\n",
    "- $SS_{tot}$ returns the sum of squared differences between actual values and their mean\n",
    "- As we know, the simplest model one could fit is simply outputting the mean of targets regardless of the inputs. For this case $SS_{res}$ is equal to $SS_{tot}$, and $R^2$ then equals 0 meaning our model has very low predictive power.\n",
    "- If our model was somehow able to predict exactly the desired values, $SS_{res}$ would then be equal to 0, and $R^2$ would be equal to 1, which would be the theoretical ideal case.\n",
    "- In some extreme cases $R^2$ could even be negative if the predictions would actually be worse then simply predicting the mean.\n",
    "\n"
   ]
  },
  {
   "cell_type": "code",
   "execution_count": 3,
   "metadata": {},
   "outputs": [
    {
     "name": "stdout",
     "output_type": "stream",
     "text": [
      "R^2 = 0.9036690556530075\n"
     ]
    }
   ],
   "source": [
    "# Using the same model parameters from the previous code cell\n",
    "# Calculate R^2\n",
    "\n",
    "SS_res = (Y_hat - Y).dot(Y_hat - Y)\n",
    "SS_tot = (Y - Y.mean()).dot(Y - Y.mean())\n",
    "R2 = 1 - SS_res/SS_tot\n",
    "\n",
    "print(f\"R^2 = {R2}\")"
   ]
  },
  {
   "cell_type": "markdown",
   "metadata": {},
   "source": [
    "# Multiple linear regression\n",
    "- Multiple linear regression differs from 1D regression in that it allows for multiple input values. We denote the dimensionality of inputs as $D$\n",
    "\n",
    "## Preliminaries\n",
    "- the $D$-dimensional dataset with $N$ datapoints is given by $data = \\{((x_{11}, \\dots, x_{1D}), y_1), \\dots, ((x_{N1}, \\dots, x_{ND}), y_N)\\}$\n",
    "- an invididual datapoint $i$ are denoted as a column vector $\\mathbf{x_i}$ with dimension $Dx1$\n",
    "- we collect the input variables into an $NxD$ matrix $\\mathbf{X} = [\\mathbf{x_1^T}, \\dots, \\mathbf{x_N^T}]$, where rows represent individual datapoints and columns represent the input values\n",
    "- likewise $\\mathbf{Y} = [y_1, \\dots, y_N]^T$  \n",
    "- and $\\mathbf{\\hat{Y}} = [\\hat{y_1}, \\dots, \\hat{y_n}]^T$  \n",
    "- we're trying to find a hyperplane satisfying the equations:  \n",
    "$w_0 + w_1x_{11} + \\dots + w_Dx_{1D} = \\hat{y_1}$  \n",
    "$\\vdots$  \n",
    "$w_0 + w_1x_{N1} + \\dots + w_Dx_{ND} = \\hat{y_N}$\n",
    "- we denote $\\mathbf{w} = [w_1, \\dots, w_D]^T$\n",
    "- to make further notation easier, we absorb the constant term $w_0$ into $\\mathbf{w}$ and $\\mathbf{x_i}$\n",
    "- $\\mathbf{w} = [w_0, w_1, \\dots, w_D]^T$ and $\\mathbf{x_i} = [1, x_{i1}, \\dots, x_{iD}]^T$\n",
    "- then we can simply write $\\mathbf{\\hat{Y}} = \\mathbf{Xw}$\n",
    "- and $\\hat{y_i} = \\mathbf{w^Tx_i}$\n",
    "- as in the one dimensional case, we seek to minimize $J = \\sum_{i=1}^N(y_i - \\hat{y_i})^2 = \\sum_{i=1}^N(y_i - \\mathbf{w^Tx_i})^2$ by setting $\\frac{\\partial J}{\\partial w_j} = 0$ for all $j \\in \\{0, \\dots, D\\}$  "
   ]
  },
  {
   "cell_type": "markdown",
   "metadata": {},
   "source": [
    "## Closed form solution\n",
    "$\\frac{\\partial J}{\\partial w_j} = 0$  \n",
    "$\\equiv \\frac{\\partial}{\\partial w_j} \\sum_{i=1}^N(y_i - \\mathbf{w^Tx_i})^2 = 0$  \n",
    "$\\equiv \\frac{\\partial}{\\partial w_j} \\sum_{i=1}^N(y_i - (w_0x_{i1} + \\dots + w_Dx_{iD}))^2 = 0$  \n",
    "$\\equiv \\sum_{i=1}^N2(y_i - (w_0x_{i1} + \\dots + w_Dx_{iD}))(-x_{ij}) = 0$  \n",
    "$\\equiv \\sum_{i=1}^N2(y_i - \\mathbf{w^Tx_i})(-x_{ij}) = 0$  \n",
    "$\\equiv \\sum_{i=1}^N(y_i(-x_{ij}) - \\mathbf{w^Tx_i}(-x_{ij})) = 0$  \n",
    "$\\equiv \\sum_{i=1}^N\\mathbf{w^Tx_i}x_{ij} = \\sum_{i=1}^Ny_ix_{ij} $  \n",
    "$\\equiv \\mathbf{w^T}\\sum_{i=1}^N\\mathbf{x_i}x_{ij} = \\sum_{i=1}^Ny_ix_{ij} $  "
   ]
  },
  {
   "cell_type": "markdown",
   "metadata": {},
   "source": [
    "in fact we have $D+1$ of these equations:  \n",
    "$\\mathbf{w^T}\\sum_{i=1}^N\\mathbf{x_i}x_{i0} = \\sum_{i=1}^Ny_ix_{i0}$  \n",
    "$\\vdots$  \n",
    "$\\mathbf{w^T}\\sum_{i=1}^N\\mathbf{x_i}x_{iD} = \\sum_{i=1}^Ny_ix_{iD}$"
   ]
  },
  {
   "cell_type": "markdown",
   "metadata": {},
   "source": [
    "all these equations can be encompassed as matrices:"
   ]
  },
  {
   "cell_type": "markdown",
   "metadata": {},
   "source": [
    "$\\mathbf{w^T}(\\mathbf{X^TX}) = \\mathbf{Y^TX}$"
   ]
  },
  {
   "cell_type": "markdown",
   "metadata": {},
   "source": [
    "and now we solve for $\\mathbf{Y}$:"
   ]
  },
  {
   "cell_type": "markdown",
   "metadata": {},
   "source": [
    "$(\\mathbf{w^T}(\\mathbf{X^TX}))^T = (\\mathbf{Y^TX})^T$  \n",
    "$(\\mathbf{X^TX})^T(\\mathbf{w^T}^T) = (\\mathbf{X^T(Y^T)^T})$  \n",
    "$(\\mathbf{X^T(X^T)^T})\\mathbf{w} = (\\mathbf{X^TY})$  \n",
    "$(\\mathbf{X^TX})\\mathbf{w} = \\mathbf{X^TY}$  \n",
    "$(\\mathbf{X^TX})^{-1}(\\mathbf{X^TX})\\mathbf{w} = (\\mathbf{X^TX})^{-1}\\mathbf{X^TY}$  \n",
    "$\\mathbf{w} = (\\mathbf{X^TX})^{-1}\\mathbf{X^TY}$  "
   ]
  },
  {
   "cell_type": "markdown",
   "metadata": {},
   "source": [
    "- we have obtained an equation to calculate $\\mathbf{w}$ directly\n",
    "- however numpy offers an optimized way to solve systems of linear equations with **np.linalg.solve()**\n",
    "- $\\mathbf{Ax = b} \\implies x = np.linalg.solve(A, b)$\n",
    "- thus we use the third from last equation $(\\mathbf{X^TX})\\mathbf{w} = \\mathbf{X^TY}$\n",
    "- $w = np.linalg.solve(X^TX, X^TY)$"
   ]
  },
  {
   "cell_type": "markdown",
   "metadata": {},
   "source": [
    "## Coding multiple linear regression\n"
   ]
  },
  {
   "cell_type": "code",
   "execution_count": 4,
   "metadata": {},
   "outputs": [
    {
     "name": "stdout",
     "output_type": "stream",
     "text": [
      "w_0 = 1.4619124145610245, w_1 = 2.016667933588083, w_2 = 2.9698504834692585\n",
      "R^2 = 0.9980040612475777\n"
     ]
    },
    {
     "data": {
      "image/png": "[encoded data removed]",
      "text/plain": [
       "<Figure size 432x288 with 1 Axes>"
      ]
     },
     "metadata": {
      "needs_background": "light"
     },
     "output_type": "display_data"
    }
   ],
   "source": [
    "# imports\n",
    "from mpl_toolkits.mplot3d import Axes3D\n",
    "import warnings\n",
    "warnings.filterwarnings('ignore')\n",
    "\n",
    "# prepping data\n",
    "X = []\n",
    "Y = []\n",
    "for line in open('../data/data_2d.csv'):\n",
    "    x1, x2, y = line.split(',')\n",
    "    X.append([1, float(x1), float(x2)])\n",
    "    Y.append(float(y))\n",
    "\n",
    "X = np.array(X)\n",
    "Y = np.array(Y)\n",
    "\n",
    "# solving for model parameters\n",
    "w = np.linalg.solve(X.T.dot(X), X.T.dot(Y))\n",
    "print(f\"w_0 = {w[0]}, w_1 = {w[1]}, w_2 = {w[2]}\")\n",
    "\n",
    "# making predictions\n",
    "Y_hat = np.dot(X, w)\n",
    "\n",
    "# plotting datapoints\n",
    "fig = plt.figure()\n",
    "ax = plt.axes(projection='3d')\n",
    "ax.scatter(X[:, 1], X[:, 2], Y[:], alpha=1, c='black')\n",
    "#ax.scatter(X[:, 1], X[:, 2], Y_hat[:])\n",
    "\n",
    "# plotting hyperplane\n",
    "x1_pred = np.linspace(0, 100, 100)\n",
    "x2_pred = np.linspace(0, 100, 100)\n",
    "x1_pred, x2_pred = np.meshgrid(x1_pred, x2_pred)\n",
    "input_data = np.array([1.0, x1_pred.flatten(), x2_pred.flatten()]).T\n",
    "y_hat = np.dot(input_data, w)\n",
    "ax.scatter(x1_pred.flatten(), x2_pred.flatten(), y_hat, facecolor=(0,0,0,0), s=2, edgecolor='#0000aa', alpha=0.2)\n",
    "\n",
    "# calculating R^2\n",
    "SS_res = (Y_hat - Y).dot(Y_hat - Y)\n",
    "SS_tot = (Y - Y.mean()).dot(Y - Y.mean())\n",
    "R2 = 1 - SS_res/SS_tot\n",
    "print(f\"R^2 = {R2}\")\n"
   ]
  },
  {
   "cell_type": "markdown",
   "metadata": {},
   "source": [
    "## Polynomials\n",
    "- despite the name **linear regression**, non-linear patterns may also be fitted with the exact same process\n",
    "- this is because *linear* refers to the weights rather than the input"
   ]
  },
  {
   "cell_type": "code",
   "execution_count": 5,
   "metadata": {},
   "outputs": [
    {
     "name": "stdout",
     "output_type": "stream",
     "text": [
      "w_0 = 4.2777514111503265, w_1 = 1.0054287535737028, w_2 = 0.09961722841288664\n",
      "R^2 = 0.9991412296366858\n"
     ]
    },
    {
     "data": {
      "image/png": "[encoded data removed]",
      "text/plain": [
       "<Figure size 432x288 with 1 Axes>"
      ]
     },
     "metadata": {
      "needs_background": "light"
     },
     "output_type": "display_data"
    }
   ],
   "source": [
    "# data processing\n",
    "X = []\n",
    "Y = []\n",
    "for line in open('../data/data_poly.csv'):\n",
    "    x, y = line.split(',')\n",
    "    X.append([1, float(x), float(x)**2])\n",
    "    Y.append(float(y))\n",
    "    \n",
    "X = np.array(X)\n",
    "Y= np.array(Y)\n",
    "\n",
    "# solving for weights\n",
    "w = np.linalg.solve(X.T.dot(X), X.T.dot(Y))\n",
    "print(f\"w_0 = {w[0]}, w_1 = {w[1]}, w_2 = {w[2]}\")\n",
    "\n",
    "# making predictions\n",
    "Y_hat = np.dot(X, w)\n",
    "\n",
    "# plotting\n",
    "fig, ax = plt.subplots()\n",
    "ax.scatter(X[:,1], Y)\n",
    "ax.plot(sorted(X[:,1]), sorted(Y_hat), c='black');\n",
    "\n",
    "# calculating R^2\n",
    "SS_res = (Y_hat-Y).dot(Y_hat-Y)\n",
    "SS_tot = (Y-Y.mean()).dot(Y-Y.mean())\n",
    "R2 = 1 - SS_res/SS_tot\n",
    "print(f\"R^2 = {R2}\")"
   ]
  },
  {
   "cell_type": "markdown",
   "metadata": {},
   "source": [
    "# Practical concerns"
   ]
  },
  {
   "cell_type": "markdown",
   "metadata": {},
   "source": [
    "## Interpreting the weights\n",
    "$y = w_0 + w_1x_1 + \\dots + w_Dx_D$\n",
    "\n",
    "- the weights $w_1, \\dots, w_D$ give us information about how how $y$ changes in relation to a unit change in $x_i$\n",
    "- when $x_i$ increases by 1, $y$ increases by $w_i$, for $i \\in \\{1, \\dots, D\\}$\n",
    "- $w_0$ is different, since $x_0$ is by default always set to 1\n",
    "- $w_0$ is also called the **bias term**\n",
    "- $w_0$ gives the value of $y$ when all $x_i$ are set to 0, for $i \\in \\{1, \\dots, D\\}$"
   ]
  },
  {
   "cell_type": "markdown",
   "metadata": {},
   "source": [
    "## Generalization\n",
    "- the goal of training a model is **not** to optimize it such that we fit the training data as best as possible\n",
    "- we want to use this model to make predictions on new, previously unseen data\n",
    "- thus the goal is to maximize its ability to generalize\n",
    "- we do this by splitting our data into train, validation and test sets\n",
    "- the model training is done on the train set, we iteratively train new and better models on the train set and evaluate their performance on the validation set. The performance is evaluated by calculating some kind of metric, such as R squared. After we're done with this process, we do a one time evaluation on the test set\n",
    "a typical example of this will look as follow:  "
   ]
  },
  {
   "cell_type": "markdown",
   "metadata": {},
   "source": [
    "<img src=\"assets/generalization.png\"\n",
    "     alt=\"Markdown Monster icon\"\n",
    "     style=\"float: left; margin-right: 10px\"\n",
    "     width=\"500\"/>"
   ]
  },
  {
   "cell_type": "markdown",
   "metadata": {},
   "source": [
    "- when the model fits the data too well on the training set, it might have poor performance on the validation and test set. This is called overfitting\n",
    "- the goal is to find the sweet spot where the performance is good on both the train set and val/test set\n",
    "- however is the train test is very representative of all data generated by a process, the generalization will be good no matter what. A model performs poorly on data which differs significantly from what it has seen in the train set"
   ]
  },
  {
   "cell_type": "markdown",
   "metadata": {},
   "source": [
    "## One hot encoding\n",
    "- we need a way to deal with categorical inputs, such as education levels\n",
    "- consider the example where the education level, held in a variable 'degree', can have three possible values {bachelor, master, PhD}\n",
    "- we can't multiply weights by strings, so we need to convert them into numbers\n",
    "- this is done by introducing 3 new variables 'bachelor', 'master', 'PhD'\n",
    "- exactly on of these variables contains a 1 if 'degree' was set to the corresponding value. The other variables are set to 0"
   ]
  },
  {
   "cell_type": "markdown",
   "metadata": {},
   "source": [
    "## Maximum likelihood estimation (1D case)\n",
    "- consider a dataset $data = \\{(x_1, y_1), ..., (x_N, y_N)\\}$\n",
    "- trying to fit $\\hat{y} = w_1*x_1 + w_0$, where $y \\sim N(\\hat{y}, \\sigma^2)$\n",
    "- maximum likelihood estimation is a method of figuring out values of distribution parameters that are most likely to generate the data we observe\n",
    "- assuming we think our data is normally distributed, the probability of observing a datapoint is:<br>\n",
    "$$p(y_i) = \\frac{1}{\\sqrt{(2\\pi\\sigma^2)}} e^{-\\frac{1}{2} \\frac{(y_i - \\hat{y_i})^2}{\\sigma^2}}$$\n",
    "- where $y \\sim N(\\hat{y_i}, \\sigma^2)$, since we are trying to predict the expected value of a given datapoint with a line\n",
    "\n",
    "- given $N$ identically distributed independant (iid) observations the probability of observing them is (also called the likelihood):<br>\n",
    "$$p(y_1,\\dots,y_N|\\mu,\\sigma^2) = p(y_1,\\dots,y_n|x_1, \\dots, x_N,\\sigma^2) = \\prod_{i=1}^N p(y_i|x_i, \\sigma^2) = \\prod_{i=1}^{N}\\frac{1}{\\sqrt{(2\\pi\\sigma^2)}}e^{-\\frac{1}{2}\\frac{(y_i-\\hat{y_i})^2}{\\sigma^2}}$$\n",
    "- it is easier to work with log likelihood. We can do this since logarithm is monotonically increasing, $x < y \\implies log(x) < log(y)$:<br>\n",
    "$$log(l) = log(\\prod_{i=1}^{N}\\frac{1}{\\sqrt{(2\\pi\\sigma^2)}}e^{-\\frac{1}{2}\\frac{(y_i - \\hat{y_i})^2}{\\sigma^2}}) = \\sum_{i=1}^N log(\\frac{1}{\\sqrt{(2\\pi\\sigma^2)}}e^{-\\frac{1}{2}\\frac{(y_i-\\hat{y_i})^2}{\\sigma^2}}) = \\sum_{i=1}^N (-\\frac{1}{2}log(2\\pi\\sigma^2) + -\\frac{1}{2}\\frac{-(y_i-\\hat{y_i})^2}{\\sigma^2}) = \\sum_{i=1}^N (-\\frac{1}{2}log(2\\pi\\sigma^2) + \\frac{1}{2}\\frac{(y_i-(w_1x_1 + w_0))^2}{\\sigma^2})  $$\n",
    "- since we are maximizing, we set the derivatives to zero. Also the function is just a constant plus multiple quadratics, resulting in another quadratic function. More specifically with a positive coefficient, thus the point where all derivatives are equal to zero will be a minimum. When taking the partial derivative with respect to weights, the first part of the summationg goes to zero:\n",
    "$$\\frac{\\partial{l}}{\\partial{w_j}} =\\frac{\\partial}{\\partial{w_j}} \\sum_{i=1}^N (-\\frac{1}{2}\\frac{(y_i-(w_1x_1 + w_0))^2}{\\sigma^2}) = 0$$\n",
    "$$\\equiv \\frac{\\partial}{\\partial{w_j}} \\sum_{i=1}^N {(y_i-(w_1x_1 + w_0))^2} = 0$$\n",
    "\n",
    "- Thus maximizing the likelihood is equivalent to minimizing the loss function"
   ]
  },
  {
   "cell_type": "markdown",
   "metadata": {},
   "source": [
    "## L2 regularization (ridge regression)\n",
    "basic idea: we want to have only small weights in the model, because large weights might pull the hyperplane towards outliers.\n",
    "We do this by adding a penalization constant to the loss functions\n",
    "\n",
    "$$J = \\sum_{i=1}^N (y_i - \\hat{y_i})^2 + \\lambda |w|^2$$\n",
    "$$\\equiv J = \\mathbf{(Y-Xw)^T(Y-Xw) + \\lambda w^Tw}$$\n",
    "$$\\equiv J = \\mathbf{Y^TY - 2Y^TXw + w^TX^TXw + \\lambda w^Tw}$$<br><br>\n",
    "\n",
    "$$\\mathbf{\\frac{\\partial J}{\\partial w} = -2X^TY - 2X^TXw + 2\\lambda w} = 0$$\n",
    "$$\\equiv \\mathbf{ (\\lambda I + X^TX)w = X^TY}$$\n",
    "$$\\equiv \\mathbf{ w = (\\lambda I + X^TX)^{-1}X^TY}$$"
   ]
  },
  {
   "cell_type": "markdown",
   "metadata": {},
   "source": [
    "### Code"
   ]
  },
  {
   "cell_type": "code",
   "execution_count": 15,
   "metadata": {},
   "outputs": [
    {
     "data": {
      "image/png": "[encoded data removed]",
      "text/plain": [
       "<Figure size 432x288 with 1 Axes>"
      ]
     },
     "metadata": {
      "needs_background": "light"
     },
     "output_type": "display_data"
    }
   ],
   "source": [
    "N = 50\n",
    "\n",
    "X = np.linspace(0, 10, N)\n",
    "Y = 0.5*X + np.random.randn(N)\n",
    "\n",
    "Y[-1] += 30\n",
    "Y[-2] += 30\n",
    "\n",
    "X = np.vstack([np.ones(N), X]).T\n",
    "\n",
    "w_classic = np.linalg.solve(X.T.dot(X), X.T.dot(Y))\n",
    "Yhat_classic = X.dot(w_classic)\n",
    "\n",
    "l2 = 1000.0\n",
    "w_l2 = np.linalg.solve(l2*np.eye(2) + X.T.dot(X), X.T.dot(Y))\n",
    "Yhat_l2 = X.dot(w_l2)\n",
    "\n",
    "plt.scatter(X[:, 1], Y)\n",
    "plt.plot(X[:, 1], Yhat_classic, label='classic', color='r')\n",
    "plt.plot(X[:, 1], Yhat_l2, label='l2', color='g')\n",
    "plt.legend()\n",
    "plt.show()"
   ]
  },
  {
   "cell_type": "markdown",
   "metadata": {},
   "source": [
    "## Dummy variable trap\n",
    "- the dummy variable trap refers to the issue that when we use one hot encoding on an input column, it makes X matrix singular, thus it cannot be inverted.\n",
    "\n",
    "solutions: \n",
    "- use only k-1 columns and absorb 1 value into the bias term\n",
    "- remove the bias term\n",
    "- use l2 regularization\n",
    "- use gradient descent"
   ]
  },
  {
   "cell_type": "markdown",
   "metadata": {},
   "source": [
    "## Gradient descent\n",
    "We already know the derivative with respect to weights for linear regression and how to update them. In practice we initialize the weights randomly.\n",
    "In linear regression, the learning rate isn't too sensitive"
   ]
  },
  {
   "cell_type": "markdown",
   "metadata": {},
   "source": [
    "### Code (demonstration of gradient descent and how it can bypass the dummy variable trap)"
   ]
  },
  {
   "cell_type": "code",
   "execution_count": 41,
   "metadata": {},
   "outputs": [
    {
     "data": {
      "image/png": "[encoded data removed]",
      "text/plain": [
       "<Figure size 432x288 with 1 Axes>"
      ]
     },
     "metadata": {
      "needs_background": "light"
     },
     "output_type": "display_data"
    }
   ],
   "source": [
    "N = 10\n",
    "D = 3\n",
    "\n",
    "X = np.zeros((N, D))\n",
    "X[:,0] = 1\n",
    "X[:5, 1] = 1\n",
    "X[5:, 2] = 1\n",
    "\n",
    "Y = np.array([0]*5 + [1]*5)\n",
    "\n",
    "# Classic solution would raise an error\n",
    "#w = np.linalg.solve(X.T.dot(X), X.T.dot(Y))\n",
    "\n",
    "costs = []\n",
    "w = np.random.randn(D)/np.sqrt(D)\n",
    "learning_rate = 0.001\n",
    "\n",
    "for _ in range(1000):\n",
    "    Y_hat = X.dot(w)\n",
    "    delta = Y_hat - Y\n",
    "    w = w - learning_rate*X.T.dot(delta)\n",
    "    mse = delta.dot(delta)/N\n",
    "    costs.append(mse)\n",
    "    \n",
    "plt.plot(costs);\n"
   ]
  },
  {
   "cell_type": "markdown",
   "metadata": {},
   "source": [
    "## L1 regularization\n",
    "- L1 regularization encourages weights to be equal to zero, as opposed to L2 regularization, which encourages weights to be small. By encouraging weights to be zero, it effectively tries to select only those input features which are most important.\n",
    "\n",
    "$$J = \\sum_{i=1}^N (y_i - \\hat{y_i})^2 + \\lambda |w|^2$$"
   ]
  }
 ],
 "metadata": {
  "kernelspec": {
   "display_name": "Python 3",
   "language": "python",
   "name": "python3"
  },
  "language_info": {
   "codemirror_mode": {
    "name": "ipython",
    "version": 3
   },
   "file_extension": ".py",
   "mimetype": "text/x-python",
   "name": "python",
   "nbconvert_exporter": "python",
   "pygments_lexer": "ipython3",
   "version": "3.8.2"
  }
 },
 "nbformat": 4,
 "nbformat_minor": 4
}
