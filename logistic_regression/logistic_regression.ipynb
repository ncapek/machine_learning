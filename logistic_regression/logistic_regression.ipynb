{
 "cells": [
  {
   "cell_type": "markdown",
   "metadata": {},
   "source": [
    "# Logistic regression\n",
    "\n",
    "**If you can't implement it, you don't understand it**\n",
    "\n",
    "- serves very well as a baseline model\n",
    "- it's very interpretable and stable, doesn't require very much tuning\n",
    "- it's fast and well established (studied by statisticians very closely)\n",
    "- logistic regression serves as a model for the neuron (more in deep learning course)\n",
    "- neurons are combined together to form neural networks\n"
   ]
  },
  {
   "cell_type": "markdown",
   "metadata": {},
   "source": [
    "In proper machine learning, we place a high emphasis on how to implement the models themselves, instead of relying on an API someone else wrote for us"
   ]
  },
  {
   "cell_type": "markdown",
   "metadata": {},
   "source": [
    "## Classification problem\n",
    "- <u>Supervised learning</u> - we have labels for our dataset and the goal is to train a model that learns how to output labels given inputs\n",
    "    - Classification - we're trying to split data into categories. Logistic regression is a classifier\n",
    "    - Regression - we're trying to output a continous value of a function\n",
    "- <u>Unsupervised learning</u> - we do not have labels for the data and the goal is to reveal some underlying patterns in the data"
   ]
  },
  {
   "cell_type": "markdown",
   "metadata": {},
   "source": [
    "## E-commerce dataset\n",
    "- in this course we work with the e-commerce dataset\n",
    "- consider the problem of being a data scientist for an e-commerce store\n",
    "- we want to predict user actions on the site\n",
    "- this poses an opportunity for direct monetary impact:\n",
    "    - predict bounce -> trying to predict if a user will leave out website and prompt them to take some action to prevent leaving\n",
    "    - finding weak areas of the website -> figuring where people begin checkout, but don't complete it. For example finding that people are significantly less likely to finish an order on the mobile version of the website -> the mobile version should be enhanced\n",
    "    \n",
    "### Data\n",
    "<b>columns</b>:\n",
    "    - is_mobile: possible values are 0/1, tells us if user is visiting site on mobile\n",
    "    - n_products_viewed: int >= 0, tells us how many products the user has viewed during current session\n",
    "    - visit_duration: real >= 0, how long a user was on the site during session\n",
    "    - is_returning_visitor: 0/1, tells us if the user has already visited site in the past\n",
    "    - time_of_day: 0/1/2/3, split into 4 time periods\n",
    "    - user_action: this is the label/target, possible values bounce/add_to_cart/begin_checkout/finish_checkout\n",
    "        - bounce = user left site\n",
    "        - add_to_cart = user added something to cart but did not begin checkout\n",
    "        - begin_checkout = used began checkout but did not finish\n",
    "        - finish_checkout = user successfully finished checkout\n",
    "        \n",
    "#### Preprocessing\n",
    "- the time column will be preprocessed using one hot encoding\n",
    "- binary columns are ok as they are. Technically even binary variables could be split into two columns. But left as binary variables, the effect of it being set to 0 is absorbed into the bias term\n",
    "- number of products viewed could be viewed as categorical, since we are likely to observe only a certain range of values, but since the possible values have relative meaning (5 products viewed are more than 1), it is viewed as numeric\n",
    "- numeric data is good to normalize, ie. subtract the mean and divide by standard deviation, which makes the data have a mean of 0 and standard deviation of 1. We normalize data so that transformations, such as the sigmoid function, will have a more pronounced effect. The sigmoid has the largest slope near 0 and gets very flat as input values get far away from 0\n"
   ]
  }
 ],
 "metadata": {
  "kernelspec": {
   "display_name": "Python 3",
   "language": "python",
   "name": "python3"
  },
  "language_info": {
   "codemirror_mode": {
    "name": "ipython",
    "version": 3
   },
   "file_extension": ".py",
   "mimetype": "text/x-python",
   "name": "python",
   "nbconvert_exporter": "python",
   "pygments_lexer": "ipython3",
   "version": "3.8.2"
  }
 },
 "nbformat": 4,
 "nbformat_minor": 4
}
