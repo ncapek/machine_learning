{
 "cells": [
  {
   "cell_type": "markdown",
   "metadata": {},
   "source": [
    "# Time series\n",
    "<i>Based on the relevant course from Lazy Programmer</i>\n",
    "\n",
    "<u>Outline</u>:\n",
    "- What is a time series?\n",
    "- Modelling vs predicting\n",
    "- All about shapes\n",
    "- Kinds of time series tasks (one-step, multi-step forecasts, classification)\n",
    "- Time series transformations\n",
    "- Forecasting metrics\n",
    "- Financial time series primer\n",
    "- Price simulations in code\n",
    "- Random walks\n",
    "- Naive forecast\n",
    "- Vector time series\n",
    "\n",
    "<u>What will not be discussed</u>:\n",
    "- Sequence data in general (time series is a subset)\n",
    "- Irregularly spaced time series"
   ]
  },
  {
   "cell_type": "markdown",
   "metadata": {},
   "source": [
    "## Modelling vs predicting\n",
    "\n",
    "<b>predicting</b><br>\n",
    "= getting an output value given an input<br>\n",
    "also known as time-series forecating\n",
    "<!-- ![predicting](../assets/ts_predcition.jpg) -->\n",
    "<p align=\"center\">\n",
    "  <img src=\"../assets/ts_predcition.jpg\" scale=5 title=\"hover text\">\n",
    "</p>\n",
    "<br>\n",
    "<b>modelling</b><br>\n",
    "= find a function to map inputs to outputs<br>\n",
    "also known as time-series analysis<br>\n",
    "gives insight into the behavious of time series:<br>\n",
    "- is it mean-reverting?<br>\n",
    "- will it grow unbounded?<br>\n",
    "- is it predictable?\n",
    "\n",
    "<p align=\"center\">\n",
    "  <img src=\"../assets/ts_modelling.jpg\" scale=5 title=\"hover text\">\n",
    "</p>"
   ]
  },
  {
   "cell_type": "markdown",
   "metadata": {},
   "source": [
    "## Why do we care about shapes?\n",
    "- libraries make assumptions about shapes\n",
    "- understanding shapes helps visualize data\n",
    "<br><br>\n",
    "\n",
    "- in pandas, dataframes are 2-D, series are 1-D\n",
    "- both can be used to represent a 1-D time series\n",
    "- WARNING: a dataframe can be T rows and 1 column, but is different from a Series object\n",
    "- dataframes can store multiple series, 1 per column\n",
    "- when storing time-series, the convention is rows for time/date, columns for datapoints\n",
    "\n",
    "- trick: when dealing with a multidimensional time dataset with dimension N x T x D, visualize a box with the same dimensions\n",
    "\n",
    "\n"
   ]
  },
  {
   "cell_type": "markdown",
   "metadata": {},
   "source": [
    "## Types of tasks\n",
    "\n",
    "<b>One-step forecast</b>\n",
    "- given $\\{y_1,\\dots,y_n\\}$ we want to predict $\\hat{y}_{n+1}$\n",
    "\n",
    "<b>Multi-step forecast</b>\n",
    "Forecast horizon = number of steps to forecast\n",
    "\n",
    "- <u>Incremental method</u>:\n",
    "    - we have $\\{y_1,\\dots,y_n\\}$ and want $\\{\\hat{y}_{n+1}, \\hat{y}_{n+2}, \\hat{y}_{n+3}\\}$\n",
    "    - we do it incrementally: get $\\hat{y}_{n+1}$ from $\\{y_1,\\dots,y_n\\}$\n",
    "    - next: get $y_{n+2}$ from $\\{y_1,\\dots,\\hat{y}_{n+1}\\}$\n",
    "    - and iterate\n",
    "- <u>Multi-output method</u>: \n",
    "    - output directly $\\{\\hat{y}_{n+1}, \\hat{y}_{n+2}, \\hat{y}_{n+3}\\}$ from $\\{y_1,\\dots,y_n\\}$ given some model\n",
    "\n",
    "<b>Time series classification</b>\n",
    "- predicting a category as opposed to a number\n"
   ]
  },
  {
   "cell_type": "code",
   "execution_count": null,
   "metadata": {},
   "outputs": [],
   "source": []
  }
 ],
 "metadata": {
  "kernelspec": {
   "display_name": "Python 3",
   "language": "python",
   "name": "python3"
  },
  "language_info": {
   "codemirror_mode": {
    "name": "ipython",
    "version": 3
   },
   "file_extension": ".py",
   "mimetype": "text/x-python",
   "name": "python",
   "nbconvert_exporter": "python",
   "pygments_lexer": "ipython3",
   "version": "3.8.2"
  }
 },
 "nbformat": 4,
 "nbformat_minor": 4
}
