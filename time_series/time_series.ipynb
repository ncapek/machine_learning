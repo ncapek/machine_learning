{
 "cells": [
  {
   "cell_type": "markdown",
   "metadata": {},
   "source": [
    "# Time series\n",
    "\n",
    "Outline:\n",
    "- What is a time series?\n",
    "- Modelling vs predicting\n",
    "- All about shapes\n",
    "- Kinds of time series tasks (one-step, multi-step forecasts, classification)\n",
    "- Time series transformations\n",
    "- Forecasting metrics\n",
    "- Financial time series primer\n",
    "- Price simulations in code\n",
    "- Random walks\n",
    "- Naive forecast\n",
    "- Vector time series\n",
    "\n",
    "What will not be discussed:\n",
    "- Sequence data in general (time series is a subset)\n",
    "- Irregularly spaced time series\n",
    "- "
   ]
  },
  {
   "cell_type": "markdown",
   "metadata": {},
   "source": [
    "## Modelling vs predicting\n",
    "\n",
    "<b>predicting</b><br>\n",
    "= getting an output value given an input\n",
    "<!-- ![predicting](../assets/ts_predcition.jpg) -->\n",
    "<p align=\"center\">\n",
    "  <img src=\"../assets/ts_predcition.jpg\" scale=5 title=\"hover text\">\n",
    "</p>\n",
    "<br>\n",
    "<b>modelling</b><br>\n",
    "= find a function to map inputs to outputs<br>\n",
    "gives insight into the behavious of time series\n",
    "<p align=\"center\">\n",
    "  <img src=\"../assets/ts_modelling.jpg\" scale=5 title=\"hover text\">\n",
    "</p>"
   ]
  },
  {
   "cell_type": "code",
   "execution_count": null,
   "metadata": {},
   "outputs": [],
   "source": []
  }
 ],
 "metadata": {
  "kernelspec": {
   "display_name": "Python 3",
   "language": "python",
   "name": "python3"
  },
  "language_info": {
   "codemirror_mode": {
    "name": "ipython",
    "version": 3
   },
   "file_extension": ".py",
   "mimetype": "text/x-python",
   "name": "python",
   "nbconvert_exporter": "python",
   "pygments_lexer": "ipython3",
   "version": "3.8.2"
  }
 },
 "nbformat": 4,
 "nbformat_minor": 4
}
